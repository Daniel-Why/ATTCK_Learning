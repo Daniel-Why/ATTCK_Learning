{
 "cells": [
  {
   "cell_type": "markdown",
   "metadata": {},
   "source": [
    "# Import python 库 "
   ]
  },
  {
   "cell_type": "code",
   "execution_count": null,
   "metadata": {},
   "outputs": [],
   "source": [
    "import mitreattack\n",
    "from stix2 import MemoryStore\n",
    "from stix2 import Filter\n",
    "from stix2 import FileSystemSource\n"
   ]
  },
  {
   "cell_type": "markdown",
   "metadata": {},
   "source": [
    "# 加载本地数据"
   ]
  },
  {
   "cell_type": "code",
   "execution_count": null,
   "metadata": {},
   "outputs": [],
   "source": [
    "# 通过bundle加载数据\n",
    "src = MemoryStore()\n",
    "src.load_from_file(\"../assets/attck_database/attack-stix-data/enterprise-attack/enterprise-attack.json\")"
   ]
  },
  {
   "cell_type": "markdown",
   "metadata": {},
   "source": [
    "# 加载[移除弃用和撤销的对象]方法"
   ]
  },
  {
   "cell_type": "code",
   "execution_count": null,
   "metadata": {},
   "outputs": [],
   "source": [
    "# 移除弃用和撤销的对象\n",
    "from stix2 import Filter\n",
    "\n",
    "def remove_revoked_deprecated(stix_objects):\n",
    "    \"\"\"Remove any revoked or deprecated objects from queries made to the data source\"\"\"\n",
    "    # Note we use .get() because the property may not be present in the JSON data. The default is False\n",
    "    # if the property is not set.\n",
    "    return list(\n",
    "        filter(\n",
    "            lambda x: x.get(\"x_mitre_deprecated\", False) is False and x.get(\"revoked\", False) is False,\n",
    "            stix_objects\n",
    "        )\n",
    "    )\n",
    "\n",
    "#datas = src.query([ Filter(\"type\", \"=\", \"course-of-action\") ])\n",
    "#datas = remove_revoked_deprecated(datas)"
   ]
  },
  {
   "cell_type": "markdown",
   "metadata": {},
   "source": [
    "# 获取所有Tactic"
   ]
  },
  {
   "cell_type": "code",
   "execution_count": null,
   "metadata": {},
   "outputs": [],
   "source": [
    "# 获取所有Tactic\n",
    "from stix2 import Filter\n",
    "\n",
    "def getTacticsByMatrix(thesrc):\n",
    "    tactics = {}\n",
    "    matrix = thesrc.query([\n",
    "        Filter('type', '=', 'x-mitre-matrix'),\n",
    "    ])\n",
    "\n",
    "    # 丢弃启用数据\n",
    "    matrix= remove_revoked_deprecated(matrix)\n",
    "\n",
    "    for i in range(len(matrix)):\n",
    "        tactics[matrix[i]['name']] = []\n",
    "        for tactic_id in matrix[i]['tactic_refs']:\n",
    "            tactics[matrix[i]['name']].append(thesrc.get(tactic_id))\n",
    "\n",
    "    return tactics\n",
    "\n",
    "# get tactic layout\n",
    "data_dict = getTacticsByMatrix(src)\n",
    "\n",
    "# 提取所有的 \"name\" 字段和对应的 \"external_id\" 值\n",
    "name_external_id_pairs = []\n",
    "for item in data_dict['Enterprise ATT&CK']:\n",
    "    name = item['name']\n",
    "    stix_id = item['id']\n",
    "    external_id = item['external_references'][0]['external_id']\n",
    "    description = item['description']\n",
    "    \n",
    "    name_external_id_pairs.append((name, external_id,stix_id))\n",
    "\n"
   ]
  },
  {
   "cell_type": "code",
   "execution_count": null,
   "metadata": {},
   "outputs": [],
   "source": [
    "# 数据处理，转换成支持Markdown格式的数据\n",
    "\n",
    "# 打印结果\n",
    "for name, external_id,stix_id in name_external_id_pairs:\n",
    "    print(f\"## [{external_id}]:{name}\")\n",
    "    print(f\"> External ID: {external_id}\")\n",
    "    print(f\"> STIX ID: {stix_id}\")\n",
    "    print(f\"\\n \\n Description: \\n {description}\")"
   ]
  },
  {
   "cell_type": "markdown",
   "metadata": {},
   "source": [
    "# 获取 techniques 或 sub-techniques"
   ]
  },
  {
   "cell_type": "code",
   "execution_count": null,
   "metadata": {},
   "outputs": [],
   "source": [
    "# 获取 techniques 或 sub-techniques\n",
    "from stix2 import Filter\n",
    "\n",
    "def get_techniques_or_subtechniques(thesrc, include=\"both\"):\n",
    "    \"\"\"Filter Techniques or Sub-Techniques from ATT&CK Enterprise Domain.\n",
    "    include argument has three options: \"techniques\", \"subtechniques\", or \"both\"\n",
    "    depending on the intended behavior.\"\"\"\n",
    "    if include == \"techniques\":\n",
    "        query_results = thesrc.query([\n",
    "            Filter('type', '=', 'attack-pattern'),\n",
    "            Filter('x_mitre_is_subtechnique', '=', False)\n",
    "        ])\n",
    "    elif include == \"subtechniques\":\n",
    "        query_results = thesrc.query([\n",
    "            Filter('type', '=', 'attack-pattern'),\n",
    "            Filter('x_mitre_is_subtechnique', '=', True)\n",
    "        ])\n",
    "    elif include == \"both\":\n",
    "        query_results = thesrc.query([\n",
    "            Filter('type', '=', 'attack-pattern')\n",
    "        ])\n",
    "    else:\n",
    "        raise RuntimeError(\"Unknown option %s!\" % include)\n",
    "\n",
    "    return query_results\n",
    "\n",
    "\n",
    "data_list = get_techniques_or_subtechniques(src, \"both\")\n",
    "data_list = remove_revoked_deprecated(data_list)\n",
    "\n",
    "\n",
    "\n",
    "# 提取所有的 \"name\" 字段和对应的 \"external_id\" 值\n",
    "result = []\n",
    "for item in data_list:\n",
    "    name = item.name\n",
    "    external_id = item.external_references[0].external_id\n",
    "    attack_id = item.id\n",
    "    platforms = item.x_mitre_platforms\n",
    "    phase_names = [phase.phase_name for phase in item.kill_chain_phases]\n",
    "    description = item.description\n",
    "    result.append((name, external_id, attack_id, platforms, phase_names, description))\n",
    "\n",
    "\n",
    "result = sorted(result, key=lambda x: x[1])\n"
   ]
  },
  {
   "cell_type": "code",
   "execution_count": null,
   "metadata": {},
   "outputs": [],
   "source": [
    "# 数据处理，转换成支持Markdown格式的数据\n",
    "# 打印结果\n",
    "for name, external_id, attack_id, platforms, phase_names, description in result:\n",
    "    if \".\" in external_id:\n",
    "        print(f\"### [{external_id}]:{name}\")\n",
    "        print(f\"> External ID: {external_id}\")\n",
    "        print(f\"> STIX ID: {attack_id}\")\n",
    "        print(f\"> Platforms: {platforms}\")\n",
    "        print(f\"> Tactics: {phase_names}\")\n",
    "        print(f\"\\n \\n Description: \\n {description}\")\n",
    "    else:\n",
    "        print(f\"## [{external_id}]:{name}\")\n",
    "        print(f\"> External ID: {external_id}\")\n",
    "        print(f\"> STIX ID: {attack_id}\")\n",
    "        print(f\"> Platforms: {platforms}\")\n",
    "        print(f\"> Tactics: {phase_names}\")\n",
    "        print(f\"\\n \\n Description: \\n {description}\")\n"
   ]
  },
  {
   "cell_type": "markdown",
   "metadata": {},
   "source": [
    "# 通过Tactic获取techniques"
   ]
  },
  {
   "cell_type": "code",
   "execution_count": null,
   "metadata": {},
   "outputs": [],
   "source": [
    "# 通过Tactic获取techniques\n",
    "from stix2 import Filter\n",
    "\n",
    "def get_tactic_techniques(thesrc, tactic):\n",
    "    # double checking the kill chain is MITRE ATT&CK\n",
    "    # note: kill_chain_name is different for other domains:\n",
    "    #    - enterprise: \"mitre-attack\"\n",
    "    #    - mobile: \"mitre-mobile-attack\"\n",
    "    #    - ics: \"mitre-ics-attack\"\n",
    "    return thesrc.query([\n",
    "        Filter('type', '=', 'attack-pattern'),\n",
    "        Filter('kill_chain_phases.phase_name', '=', tactic),\n",
    "        Filter('kill_chain_phases.kill_chain_name', '=', 'mitre-attack'),\n",
    "    ])\n",
    "\n",
    "\n",
    "# use the x_mitre_shortname as argument\n",
    "data_list = get_tactic_techniques(src, 'defense-evasion')\n",
    "data_list = remove_revoked_deprecated(data_list)\n",
    "\n",
    "\n",
    "result = []\n",
    "for item in data_list:\n",
    "    name = item.name\n",
    "    external_id = item.external_references[0].external_id\n",
    "    attack_id = item.id\n",
    "    result.append((name, external_id, attack_id))\n",
    "\n",
    "\n",
    "result = sorted(result, key=lambda x: x[1])"
   ]
  }
 ],
 "metadata": {
  "kernelspec": {
   "display_name": "Python 3",
   "language": "python",
   "name": "python3"
  },
  "language_info": {
   "codemirror_mode": {
    "name": "ipython",
    "version": 3
   },
   "file_extension": ".py",
   "mimetype": "text/x-python",
   "name": "python",
   "nbconvert_exporter": "python",
   "pygments_lexer": "ipython3",
   "version": "3.10.2"
  },
  "orig_nbformat": 4
 },
 "nbformat": 4,
 "nbformat_minor": 2
}
