{
 "cells": [
  {
   "cell_type": "code",
   "execution_count": 3,
   "metadata": {},
   "outputs": [],
   "source": [
    "import mitreattack\n",
    "from stix2 import MemoryStore\n",
    "from stix2 import Filter\n",
    "from stix2 import FileSystemSource\n"
   ]
  },
  {
   "cell_type": "code",
   "execution_count": 4,
   "metadata": {},
   "outputs": [],
   "source": [
    "# 通过bundle加载数据\n",
    "src = MemoryStore()\n",
    "src.load_from_file(\"../assets/attck_database/attack-stix-data/enterprise-attack/enterprise-attack.json\")"
   ]
  },
  {
   "cell_type": "code",
   "execution_count": 5,
   "metadata": {},
   "outputs": [],
   "source": [
    "# 移除弃用和撤销的对象\n",
    "from stix2 import Filter\n",
    "\n",
    "def remove_revoked_deprecated(stix_objects):\n",
    "    \"\"\"Remove any revoked or deprecated objects from queries made to the data source\"\"\"\n",
    "    # Note we use .get() because the property may not be present in the JSON data. The default is False\n",
    "    # if the property is not set.\n",
    "    return list(\n",
    "        filter(\n",
    "            lambda x: x.get(\"x_mitre_deprecated\", False) is False and x.get(\"revoked\", False) is False,\n",
    "            stix_objects\n",
    "        )\n",
    "    )\n",
    "\n",
    "#datas = src.query([ Filter(\"type\", \"=\", \"course-of-action\") ])\n",
    "#datas = remove_revoked_deprecated(datas)"
   ]
  },
  {
   "cell_type": "code",
   "execution_count": 8,
   "metadata": {},
   "outputs": [
    {
     "name": "stdout",
     "output_type": "stream",
     "text": [
      "# Reconnaissance\n",
      "> External ID: TA0043\n",
      "> STIX ID: x-mitre-tactic--daa4cbb1-b4f4-4723-a824-7f1efd6e0592\n",
      "# Resource Development\n",
      "> External ID: TA0042\n",
      "> STIX ID: x-mitre-tactic--d679bca2-e57d-4935-8650-8031c87a4400\n",
      "# Initial Access\n",
      "> External ID: TA0001\n",
      "> STIX ID: x-mitre-tactic--ffd5bcee-6e16-4dd2-8eca-7b3beedf33ca\n",
      "# Execution\n",
      "> External ID: TA0002\n",
      "> STIX ID: x-mitre-tactic--4ca45d45-df4d-4613-8980-bac22d278fa5\n",
      "# Persistence\n",
      "> External ID: TA0003\n",
      "> STIX ID: x-mitre-tactic--5bc1d813-693e-4823-9961-abf9af4b0e92\n",
      "# Privilege Escalation\n",
      "> External ID: TA0004\n",
      "> STIX ID: x-mitre-tactic--5e29b093-294e-49e9-a803-dab3d73b77dd\n",
      "# Defense Evasion\n",
      "> External ID: TA0005\n",
      "> STIX ID: x-mitre-tactic--78b23412-0651-46d7-a540-170a1ce8bd5a\n",
      "# Credential Access\n",
      "> External ID: TA0006\n",
      "> STIX ID: x-mitre-tactic--2558fd61-8c75-4730-94c4-11926db2a263\n",
      "# Discovery\n",
      "> External ID: TA0007\n",
      "> STIX ID: x-mitre-tactic--c17c5845-175e-4421-9713-829d0573dbc9\n",
      "# Lateral Movement\n",
      "> External ID: TA0008\n",
      "> STIX ID: x-mitre-tactic--7141578b-e50b-4dcc-bfa4-08a8dd689e9e\n",
      "# Collection\n",
      "> External ID: TA0009\n",
      "> STIX ID: x-mitre-tactic--d108ce10-2419-4cf9-a774-46161d6c6cfe\n",
      "# Command and Control\n",
      "> External ID: TA0011\n",
      "> STIX ID: x-mitre-tactic--f72804c5-f15a-449e-a5da-2eecd181f813\n",
      "# Exfiltration\n",
      "> External ID: TA0010\n",
      "> STIX ID: x-mitre-tactic--9a4e74ab-5008-408c-84bf-a10dfbc53462\n",
      "# Impact\n",
      "> External ID: TA0040\n",
      "> STIX ID: x-mitre-tactic--5569339b-94c2-49ee-afb3-2222936582c8\n"
     ]
    }
   ],
   "source": [
    "# 获取所有Tactic\n",
    "from stix2 import Filter\n",
    "\n",
    "def getTacticsByMatrix(thesrc):\n",
    "    tactics = {}\n",
    "    matrix = thesrc.query([\n",
    "        Filter('type', '=', 'x-mitre-matrix'),\n",
    "    ])\n",
    "\n",
    "    # 丢弃启用数据\n",
    "    matrix= remove_revoked_deprecated(matrix)\n",
    "\n",
    "    for i in range(len(matrix)):\n",
    "        tactics[matrix[i]['name']] = []\n",
    "        for tactic_id in matrix[i]['tactic_refs']:\n",
    "            tactics[matrix[i]['name']].append(thesrc.get(tactic_id))\n",
    "\n",
    "    return tactics\n",
    "\n",
    "# get tactic layout\n",
    "data_dict = getTacticsByMatrix(src)\n",
    "\n",
    "\n",
    "\n",
    "\n",
    "# 提取所有的 \"name\" 字段和对应的 \"external_id\" 值\n",
    "name_external_id_pairs = []\n",
    "for item in data_dict['Enterprise ATT&CK']:\n",
    "    name = item['name']\n",
    "    stix_id = item['id']\n",
    "    external_id = item['external_references'][0]['external_id']\n",
    "    name_external_id_pairs.append((name, external_id,stix_id))\n",
    "\n",
    "# 打印结果\n",
    "for name, external_id,stix_id in name_external_id_pairs:\n",
    "    print(f\"# {name}\")\n",
    "    print(f\"> External ID: {external_id}\")\n",
    "    print(f\"> STIX ID: {stix_id}\")"
   ]
  },
  {
   "cell_type": "code",
   "execution_count": null,
   "metadata": {},
   "outputs": [],
   "source": []
  }
 ],
 "metadata": {
  "kernelspec": {
   "display_name": "Python 3",
   "language": "python",
   "name": "python3"
  },
  "language_info": {
   "codemirror_mode": {
    "name": "ipython",
    "version": 3
   },
   "file_extension": ".py",
   "mimetype": "text/x-python",
   "name": "python",
   "nbconvert_exporter": "python",
   "pygments_lexer": "ipython3",
   "version": "3.10.2"
  },
  "orig_nbformat": 4
 },
 "nbformat": 4,
 "nbformat_minor": 2
}
