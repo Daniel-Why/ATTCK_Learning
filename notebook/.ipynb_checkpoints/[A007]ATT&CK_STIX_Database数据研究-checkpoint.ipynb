{
 "cells": [
  {
   "cell_type": "markdown",
   "metadata": {},
   "source": [
    "> 文章 ID：A007\n",
    ">\n",
    "> 创建时间：2023-06-27\n",
    ">\n",
    "> 更新时间：2023-06-26"
   ]
  },
  {
   "cell_type": "markdown",
   "metadata": {},
   "source": [
    "> 本文档测试版本基于STIX2.1\n",
    "> \n",
    "> MITRE ATTACK 矩阵的仓库地址和使用方法见如下链接：\n",
    "> \n",
    "> 仓库地址：https://github.com/mitre-attack/attack-stix-data\n",
    "> \n",
    "> 使用方法：https://github.com/mitre-attack/attack-stix-data/blob/master/USAGE.md\n",
    ">\n",
    "> 本项目已从仓库中拉下来了原始数据，见路径：../assets/attck_database/attack-stix-data"
   ]
  },
  {
   "cell_type": "markdown",
   "metadata": {},
   "source": [
    "> 本文档采用python的 `stix2` 和 `mitreattack-python` 库去处理Mitre Attack的STIX格式数据"
   ]
  },
  {
   "cell_type": "markdown",
   "metadata": {},
   "source": [
    "> 更多参考文档\n",
    "> \n",
    "> https://zhuanlan.zhihu.com/p/311145611?utm_id=0"
   ]
  },
  {
   "cell_type": "markdown",
   "metadata": {},
   "source": [
    "# ATT&CK 数据解析"
   ]
  },
  {
   "cell_type": "markdown",
   "metadata": {},
   "source": [
    "![ATT&CK数据组织结构](../assets/article_data/A007/pic/P001.jpg)"
   ]
  },
  {
   "cell_type": "markdown",
   "metadata": {},
   "source": [
    "ATT&CK到STIX2对象的映射\n",
    "\n",
    "\n",
    "|ATT&CK概念\t|STIX对象类型|\n",
    "|---|---|\n",
    "|Matrix\t|x-mitre-matrix 自定义类型|\n",
    "|Tactic\t|x-mitre-tactic 自定义类型|\n",
    "|Technique\t|attack-pattern|\n",
    "|Sub-technique\t|attack-pattern (x_mitre_is_subtechnique = true)|\n",
    "|Procedure\t|relationship(relationship_type = \"uses\" 且 target_ref 是 attack-pattern)|\n",
    "|Mitigation\t|course-of-action|\n",
    "|Group\t|intrusion-set|\n",
    "|Software\t|malware 或 tool|\n",
    "\n",
    "\n",
    "使用到的其他对象类型\n",
    "\n",
    "|STIX 对象类型\t| 描述|\n",
    "|---|---|\n",
    "|identity\t| 在所有对象的created_by_ref中引用，声明MITRE公司创建的对象|\n",
    "|marking-definition\t| 在所有对象的object_marking_refs中引用，表示的版权|\n",
    "\n"
   ]
  },
  {
   "cell_type": "markdown",
   "metadata": {},
   "source": [
    "STIX ID 用于标识对象的唯一编码，STIX ID是以编程方式检索和引用对象的最佳方法。例子：``` \"id\": \"intrusion-set--f40eb8ce-2a74-4e56-89a1-227021410142\" ```"
   ]
  },
  {
   "cell_type": "markdown",
   "metadata": {},
   "source": [
    "### **Matrices**\n",
    "\n",
    "ATT&CK矩阵总体布局存储在x-mitre-matrix中\n",
    "\n",
    "扩展字段\n",
    "\n",
    "| Field       | Type     | Description                                                  |\n",
    "| ----------- | -------- | ------------------------------------------------------------ |\n",
    "| tactic_refs | string[] | tactic_refs数组包含与矩阵的战术相对应的x-mitre-tactic STIX ID有序列表。 |\n",
    "\n"
   ]
  },
  {
   "cell_type": "markdown",
   "metadata": {},
   "source": [
    "\n",
    "### **Tactics**\n",
    "\n",
    "ATT&CK中的战术由x-mitre-tactic定义\n",
    "\n",
    "扩展字段\n",
    "\n",
    "| Field             | Type   | Description                                                  |\n",
    "| ----------------- | ------ | ------------------------------------------------------------ |\n",
    "| x_mitre_shortname | string | x_mitre_shortname用于将技术映射到战术中，对应技术中的kill_chain_phases.phase_name |\n",
    "\n"
   ]
  },
  {
   "cell_type": "markdown",
   "metadata": {},
   "source": [
    "\n",
    "\n",
    "### **Techniques**\n",
    "\n",
    "ATT&CK中的技术被定义为attack-pattern对象\n",
    "\n",
    "扩展字段\n",
    "\n",
    "| Field                        | Type     | Applies to                                           | Description                                                  |\n",
    "| ---------------------------- | -------- | ---------------------------------------------------- | ------------------------------------------------------------ |\n",
    "| x_mitre_detection            | string   | All techniques                                       | 识别攻击者是否使用了该技术的方法                             |\n",
    "| x_mitre_platforms            | string[] | All techniques                                       | 适用于该技术的平台列表                                       |\n",
    "| x_mitre_data_sources         | string[] | Enterprise and ICS domains                           | 识别动作或动作结果的信息源                                   |\n",
    "| x_mitre_is_subtechnique      | boolean  | Enterprise domain                                    | 值为True时，代表该技术为子技术                               |\n",
    "| x_mitre_system_requirements  | string   | Enterprise domain                                    | 攻击者需要满足的其他信息，或者该技术可能需要的系统状态信息（软件、补丁等） |\n",
    "| x_mitre_tactic_types         | string   | Mobile domain                                        | \"Post-Adversary Device Access\", \"Pre-Adversary Device Access\", or \"Without Adversary Device Access\". |\n",
    "| x_mitre_permissions_required | string[] | Enterprise domain in the Privilege Escalation tactic | 攻击者在系统上执行该技术需要的最低权限                       |\n",
    "| x_mitre_defense_bypassed     | string[] | Enterprise domain in the Defense Evasion tactic      | 技术可以绕过的防御工具，方法或过程的列表                     |\n",
    "| x_mitre_remote_support       | boolean  | Enterprise domain in the Execution tactic            | 值为True时，代表该技术可以在远程系统上执行操作               |\n",
    "\n",
    "技术通过kill_chain_phases属性映射为战术\n",
    "\n",
    "kill_chain_name可以是mitre-attack，mitre-mobile-attack或mitre-ics-attack（分别对应enterprise, mobile, and ics）\n",
    "\n",
    "phase_name对应x-mitre-tactic对象的x_mitre_shortname属性\n",
    "\n"
   ]
  },
  {
   "cell_type": "markdown",
   "metadata": {},
   "source": [
    "\n",
    "\n",
    "### **Sub-Techniques**\n",
    "\n",
    "格式与Techniques相同，使用x_mitre_is_subtechnique=True来表示子技术\n",
    "\n",
    "相关的关系(Relationships)类型subtechnique-of\n",
    "\n",
    "source_ref给出子技术，target_ref给出父技术\n",
    "\n",
    "```text\n",
    "\"source_ref\": \"attack-pattern--f3d95a1f-bba2-44ce-9af7-37866cd63fd0\",\n",
    "\"target_ref\": \"attack-pattern--35dd844a-b219-4e2b-a6bb-efa9a75995a9\",\n",
    "\"relationship_type\": \"subtechnique-of\",\n",
    "```\n",
    "\n",
    "子技术仅存在于enterprise域中\n",
    "\n"
   ]
  },
  {
   "cell_type": "markdown",
   "metadata": {},
   "source": [
    "\n",
    "### **Procedures**\n",
    "\n",
    "ATT&CK中的过程被表示为relationship_type = \"uses\" 且target_ref为attack-pattern的关系\n",
    "\n",
    "过程可以源于组(intrusion-set)和软件(malware, tool)的使用\n",
    "\n",
    "过程的内容在description中描述\n"
   ]
  },
  {
   "cell_type": "markdown",
   "metadata": {},
   "source": [
    "\n",
    "\n",
    "### **Mitigations**\n",
    "\n",
    "ATT&CK中的缓解措施被定义为course-of-action对象，与STIX中的course-of-action相同\n",
    "\n",
    "### **Groups**\n",
    "\n",
    "ATT&CK中的组被定义为intrusion-set对象，与STIX中的ntrusion-set相同\n",
    "\n",
    "### **Software**\n",
    "\n",
    "ATT&CK中的软件是malware和tool对象的结合\n",
    "\n",
    "扩展字段\n",
    "\n",
    "| Field             | Type     | Description            |\n",
    "| ----------------- | -------- | ---------------------- |\n",
    "| x_mitre_platforms | string[] | 适用于该软件的平台列表 |\n",
    "| x_mitre_aliases   | string[] | 给定软件的别名列表     |\n",
    "\n"
   ]
  },
  {
   "cell_type": "markdown",
   "metadata": {},
   "source": [
    "\n",
    "\n",
    "### **Relationships**\n",
    "\n",
    "ATT&CK中的对象通过relationship对象相互关联\n",
    "\n",
    "| Source Type      | Relationship Type | Target Type    | Custom Type? | About                                                        |\n",
    "| ---------------- | ----------------- | -------------- | ------------ | ------------------------------------------------------------ |\n",
    "| intrusion-set    | uses              | malware或tool  | No           | Group使用software                                            |\n",
    "| intrusion-set    | uses              | attack-pattern | No           | Group使用technique(也被视为procedure example)                |\n",
    "| malware或tool    | uses              | attack-pattern | No           | Software使用technique(也被视为procedure example)             |\n",
    "| course-of-action | mitigates         | attack-pattern | No           | Mitigation缓解technique                                      |\n",
    "| attack-pattern   | subtechnique-of   | attack-pattern | Yes          | 技术的子技术                                                 |\n",
    "| any type         | revoked-bya       | any type       | Yes          | target对象是source对象的替代（两者具有相同类型，且source对象属性revoked = true时）（source对象已被撤销） |"
   ]
  },
  {
   "cell_type": "markdown",
   "metadata": {},
   "source": [
    "# Python 数据样例"
   ]
  },
  {
   "cell_type": "code",
   "execution_count": 1,
   "metadata": {},
   "outputs": [],
   "source": [
    "import mitreattack\n",
    "from stix2 import MemoryStore\n",
    "from stix2 import Filter\n",
    "from stix2 import FileSystemSource\n"
   ]
  },
  {
   "cell_type": "markdown",
   "metadata": {},
   "source": [
    "### 加载数据的几种方法"
   ]
  },
  {
   "cell_type": "code",
   "execution_count": 15,
   "metadata": {},
   "outputs": [],
   "source": [
    "# 通过FileSystemSource加载数据\n",
    "src = FileSystemSource('../assets/attck_database/attack-stix-data/enterprise-attack/enterprise-attack.json')"
   ]
  },
  {
   "cell_type": "code",
   "execution_count": 2,
   "metadata": {},
   "outputs": [],
   "source": [
    "# 通过bundle加载数据\n",
    "src = MemoryStore()\n",
    "src.load_from_file(\"../assets/attck_database/attack-stix-data/enterprise-attack/enterprise-attack.json\")"
   ]
  },
  {
   "cell_type": "code",
   "execution_count": 16,
   "metadata": {},
   "outputs": [
    {
     "name": "stdout",
     "output_type": "stream",
     "text": [
      "../assets/attck_database/attack-stix-data\\enterprise-attack\\enterprise-attack-6.2.json\n"
     ]
    }
   ],
   "source": [
    "import os\n",
    "# 载入特定版本的数据\n",
    "def get_attack_version(root,domain, version):\n",
    "    \"\"\"get ATT&CK STIX data for a given domain and version. Domain should be 'enterprise-attack', 'mobile-attack' or 'ics-attack'. Branch should typically be master.\"\"\"\n",
    "    ms = MemoryStore()\n",
    "    print(os.path.join(root,domain, f\"{domain}-{version}.json\"))\n",
    "    ms.load_from_file(os.path.join(root,domain, f\"{domain}-{version}.json\"))\n",
    "    return ms\n",
    "\n",
    "src = get_attack_version(\"../assets/attck_database/attack-stix-data\",\"enterprise-attack\", \"6.2\")"
   ]
  },
  {
   "cell_type": "markdown",
   "metadata": {},
   "source": [
    "### 查询数据的方法"
   ]
  },
  {
   "cell_type": "markdown",
   "metadata": {},
   "source": [
    "#### 获取单个对象"
   ]
  },
  {
   "cell_type": "code",
   "execution_count": 5,
   "metadata": {},
   "outputs": [
    {
     "data": {
      "text/plain": [
       "{'type': 'intrusion-set',\n",
       " 'spec_version': '2.1',\n",
       " 'id': 'intrusion-set--f40eb8ce-2a74-4e56-89a1-227021410142',\n",
       " 'created_by_ref': 'identity--c78cb6e5-0c4b-4611-8297-d1b8b55e40b5',\n",
       " 'created': '2018-10-17T00:14:20.652Z',\n",
       " 'modified': '2022-04-25T14:00:00.188Z',\n",
       " 'name': 'Rancor',\n",
       " 'description': '[Rancor](https://attack.mitre.org/groups/G0075) is a threat group that has led targeted campaigns against the South East Asia region. [Rancor](https://attack.mitre.org/groups/G0075) uses politically-motivated lures to entice victims to open malicious documents. (Citation: Rancor Unit42 June 2018)',\n",
       " 'aliases': ['Rancor'],\n",
       " 'external_references': [{'source_name': 'mitre-attack',\n",
       "   'url': 'https://attack.mitre.org/groups/G0075',\n",
       "   'external_id': 'G0075'},\n",
       "  {'source_name': 'Rancor',\n",
       "   'description': '(Citation: Rancor Unit42 June 2018)'},\n",
       "  {'source_name': 'Rancor Unit42 June 2018',\n",
       "   'description': 'Ash, B., et al. (2018, June 26). RANCOR: Targeted Attacks in South East Asia Using PLAINTEE and DDKONG Malware Families. Retrieved July 2, 2018.',\n",
       "   'url': 'https://researchcenter.paloaltonetworks.com/2018/06/unit42-rancor-targeted-attacks-south-east-asia-using-plaintee-ddkong-malware-families/'}],\n",
       " 'object_marking_refs': ['marking-definition--fa42a846-8d90-4e51-bc29-71d5b4802168'],\n",
       " 'x_mitre_attack_spec_version': '2.1.0',\n",
       " 'x_mitre_domains': ['enterprise-attack'],\n",
       " 'x_mitre_modified_by_ref': 'identity--c78cb6e5-0c4b-4611-8297-d1b8b55e40b5',\n",
       " 'x_mitre_version': '1.2'}"
      ]
     },
     "execution_count": 5,
     "metadata": {},
     "output_type": "execute_result"
    }
   ],
   "source": [
    "{\n",
    "    \"type\": \"intrusion-set\",\n",
    "    \"spec_version\": \"2.1\",\n",
    "    \"id\": \"intrusion-set--f40eb8ce-2a74-4e56-89a1-227021410142\",\n",
    "    \"created_by_ref\": \"identity--c78cb6e5-0c4b-4611-8297-d1b8b55e40b5\",\n",
    "    \"created\": \"2018-10-17T00:14:20.652Z\",\n",
    "    \"modified\": \"2022-04-25T14:00:00.188Z\",\n",
    "    \"name\": \"Rancor\",\n",
    "    \"description\": \"[Rancor](https://attack.mitre.org/groups/G0075) is a threat group that has led targeted campaigns against the South East Asia region. [Rancor](https://attack.mitre.org/groups/G0075) uses politically-motivated lures to entice victims to open malicious documents. (Citation: Rancor Unit42 June 2018)\",\n",
    "    \"aliases\": [\n",
    "        \"Rancor\"\n",
    "    ],\n",
    "    \"external_references\": [\n",
    "        {\n",
    "            \"source_name\": \"mitre-attack\",\n",
    "            \"url\": \"https://attack.mitre.org/groups/G0075\",\n",
    "            \"external_id\": \"G0075\"\n",
    "        },\n",
    "        {\n",
    "            \"source_name\": \"Rancor\",\n",
    "            \"description\": \"(Citation: Rancor Unit42 June 2018)\"\n",
    "        },\n",
    "        {\n",
    "            \"source_name\": \"Rancor Unit42 June 2018\",\n",
    "            \"description\": \"Ash, B., et al. (2018, June 26). RANCOR: Targeted Attacks in South East Asia Using PLAINTEE and DDKONG Malware Families. Retrieved July 2, 2018.\",\n",
    "            \"url\": \"https://researchcenter.paloaltonetworks.com/2018/06/unit42-rancor-targeted-attacks-south-east-asia-using-plaintee-ddkong-malware-families/\"\n",
    "        }\n",
    "    ],\n",
    "    \"object_marking_refs\": [\n",
    "        \"marking-definition--fa42a846-8d90-4e51-bc29-71d5b4802168\"\n",
    "    ],\n",
    "    \"x_mitre_attack_spec_version\": \"2.1.0\",\n",
    "    \"x_mitre_domains\": [\n",
    "        \"enterprise-attack\"\n",
    "    ],\n",
    "    \"x_mitre_modified_by_ref\": \"identity--c78cb6e5-0c4b-4611-8297-d1b8b55e40b5\",\n",
    "    \"x_mitre_version\": \"1.2\"\n",
    "}"
   ]
  },
  {
   "cell_type": "code",
   "execution_count": 6,
   "metadata": {},
   "outputs": [
    {
     "name": "stdout",
     "output_type": "stream",
     "text": [
      "{\"type\": \"intrusion-set\", \"spec_version\": \"2.1\", \"id\": \"intrusion-set--f40eb8ce-2a74-4e56-89a1-227021410142\", \"created_by_ref\": \"identity--c78cb6e5-0c4b-4611-8297-d1b8b55e40b5\", \"created\": \"2018-10-17T00:14:20.652Z\", \"modified\": \"2019-04-25T12:37:45.491Z\", \"name\": \"Rancor\", \"description\": \"[Rancor](https://attack.mitre.org/groups/G0075) is a threat group that has led targeted campaigns against the South East Asia region. [Rancor](https://attack.mitre.org/groups/G0075) uses politically-motivated lures to entice victims to open malicious documents. (Citation: Rancor Unit42 June 2018)\", \"aliases\": [\"Rancor\"], \"external_references\": [{\"source_name\": \"mitre-attack\", \"url\": \"https://attack.mitre.org/groups/G0075\", \"external_id\": \"G0075\"}, {\"source_name\": \"Rancor\", \"description\": \"(Citation: Rancor Unit42 June 2018)\"}, {\"source_name\": \"Rancor Unit42 June 2018\", \"description\": \"Ash, B., et al. (2018, June 26). RANCOR: Targeted Attacks in South East Asia Using PLAINTEE and DDKONG Malware Families. Retrieved July 2, 2018.\", \"url\": \"https://researchcenter.paloaltonetworks.com/2018/06/unit42-rancor-targeted-attacks-south-east-asia-using-plaintee-ddkong-malware-families/\"}], \"object_marking_refs\": [\"marking-definition--fa42a846-8d90-4e51-bc29-71d5b4802168\"], \"x_mitre_attack_spec_version\": \"2.1.0\", \"x_mitre_domains\": [\"enterprise-attack\"], \"x_mitre_modified_by_ref\": \"identity--c78cb6e5-0c4b-4611-8297-d1b8b55e40b5\", \"x_mitre_version\": \"1.1\"}\n"
     ]
    }
   ],
   "source": [
    "# 通过 STIX ID 查询对象\n",
    "g0075 = src.get(\"intrusion-set--f40eb8ce-2a74-4e56-89a1-227021410142\")\n",
    "print(g0075)"
   ]
  },
  {
   "cell_type": "code",
   "execution_count": 7,
   "metadata": {},
   "outputs": [
    {
     "name": "stdout",
     "output_type": "stream",
     "text": [
      "{\"type\": \"intrusion-set\", \"spec_version\": \"2.1\", \"id\": \"intrusion-set--f40eb8ce-2a74-4e56-89a1-227021410142\", \"created_by_ref\": \"identity--c78cb6e5-0c4b-4611-8297-d1b8b55e40b5\", \"created\": \"2018-10-17T00:14:20.652Z\", \"modified\": \"2019-04-25T12:37:45.491Z\", \"name\": \"Rancor\", \"description\": \"[Rancor](https://attack.mitre.org/groups/G0075) is a threat group that has led targeted campaigns against the South East Asia region. [Rancor](https://attack.mitre.org/groups/G0075) uses politically-motivated lures to entice victims to open malicious documents. (Citation: Rancor Unit42 June 2018)\", \"aliases\": [\"Rancor\"], \"external_references\": [{\"source_name\": \"mitre-attack\", \"url\": \"https://attack.mitre.org/groups/G0075\", \"external_id\": \"G0075\"}, {\"source_name\": \"Rancor\", \"description\": \"(Citation: Rancor Unit42 June 2018)\"}, {\"source_name\": \"Rancor Unit42 June 2018\", \"description\": \"Ash, B., et al. (2018, June 26). RANCOR: Targeted Attacks in South East Asia Using PLAINTEE and DDKONG Malware Families. Retrieved July 2, 2018.\", \"url\": \"https://researchcenter.paloaltonetworks.com/2018/06/unit42-rancor-targeted-attacks-south-east-asia-using-plaintee-ddkong-malware-families/\"}], \"object_marking_refs\": [\"marking-definition--fa42a846-8d90-4e51-bc29-71d5b4802168\"], \"x_mitre_attack_spec_version\": \"2.1.0\", \"x_mitre_domains\": [\"enterprise-attack\"], \"x_mitre_modified_by_ref\": \"identity--c78cb6e5-0c4b-4611-8297-d1b8b55e40b5\", \"x_mitre_version\": \"1.1\"}\n"
     ]
    }
   ],
   "source": [
    "# 通过 ATT&CK ID 查询对象\n",
    "g0075 = src.query([ Filter(\"external_references.external_id\",\"=\",\"G0075\")])[0]"
   ]
  },
  {
   "cell_type": "markdown",
   "metadata": {},
   "source": [
    "注意:在att&ck的早期版本中，缓解与技术的关系为1:1，并共享其技术的ID。因此，上述方法不适用于技术，因为技术att&ck id不是真正唯一的。通过指定要查找的STIX的type为```attack-pattern```，可以避免这个问题。"
   ]
  },
  {
   "cell_type": "code",
   "execution_count": 28,
   "metadata": {},
   "outputs": [
    {
     "name": "stdout",
     "output_type": "stream",
     "text": [
      "{\"type\": \"attack-pattern\", \"spec_version\": \"2.1\", \"id\": \"attack-pattern--dcaa092b-7de9-4a21-977f-7fcb77e89c48\", \"created_by_ref\": \"identity--c78cb6e5-0c4b-4611-8297-d1b8b55e40b5\", \"created\": \"2017-12-14T16:46:06.044Z\", \"modified\": \"2023-05-09T14:00:00.188Z\", \"name\": \"Access Token Manipulation\", \"description\": \"Adversaries may modify access tokens to operate under a different user or system security context to perform actions and bypass access controls. Windows uses access tokens to determine the ownership of a running process. A user can manipulate access tokens to make a running process appear as though it is the child of a different process or belongs to someone other than the user that started the process. When this occurs, the process also takes on the security context associated with the new token.\\n\\nAn adversary can use built-in Windows API functions to copy access tokens from existing processes; this is known as token stealing. These token can then be applied to an existing process (i.e. [Token Impersonation/Theft](https://attack.mitre.org/techniques/T1134/001)) or used to spawn a new process (i.e. [Create Process with Token](https://attack.mitre.org/techniques/T1134/002)). An adversary must already be in a privileged user context (i.e. administrator) to steal a token. However, adversaries commonly use token stealing to elevate their security context from the administrator level to the SYSTEM level. An adversary can then use a token to authenticate to a remote system as the account for that token if the account has appropriate permissions on the remote system.(Citation: Pentestlab Token Manipulation)\\n\\nAny standard user can use the <code>runas</code> command, and the Windows API functions, to create impersonation tokens; it does not require access to an administrator account. There are also other mechanisms, such as Active Directory fields, that can be used to modify access tokens.\", \"kill_chain_phases\": [{\"kill_chain_name\": \"mitre-attack\", \"phase_name\": \"defense-evasion\"}, {\"kill_chain_name\": \"mitre-attack\", \"phase_name\": \"privilege-escalation\"}], \"external_references\": [{\"source_name\": \"mitre-attack\", \"url\": \"https://attack.mitre.org/techniques/T1134\", \"external_id\": \"T1134\"}, {\"source_name\": \"BlackHat Atkinson Winchester Token Manipulation\", \"description\": \"Atkinson, J., Winchester, R. (2017, December 7). A Process is No One: Hunting for Token Manipulation. Retrieved December 21, 2017.\", \"url\": \"https://www.blackhat.com/docs/eu-17/materials/eu-17-Atkinson-A-Process-Is-No-One-Hunting-For-Token-Manipulation.pdf\"}, {\"source_name\": \"Microsoft Command-line Logging\", \"description\": \"Mathers, B. (2017, March 7). Command line process auditing. Retrieved April 21, 2017.\", \"url\": \"https://technet.microsoft.com/en-us/windows-server-docs/identity/ad-ds/manage/component-updates/command-line-process-auditing\"}, {\"source_name\": \"Microsoft LogonUser\", \"description\": \"Microsoft TechNet. (n.d.). Retrieved April 25, 2017.\", \"url\": \"https://msdn.microsoft.com/en-us/library/windows/desktop/aa378184(v=vs.85).aspx\"}, {\"source_name\": \"Microsoft DuplicateTokenEx\", \"description\": \"Microsoft TechNet. (n.d.). Retrieved April 25, 2017.\", \"url\": \"https://msdn.microsoft.com/en-us/library/windows/desktop/aa446617(v=vs.85).aspx\"}, {\"source_name\": \"Microsoft ImpersonateLoggedOnUser\", \"description\": \"Microsoft TechNet. (n.d.). Retrieved April 25, 2017.\", \"url\": \"https://msdn.microsoft.com/en-us/library/windows/desktop/aa378612(v=vs.85).aspx\"}, {\"source_name\": \"Pentestlab Token Manipulation\", \"description\": \"netbiosX. (2017, April 3). Token Manipulation. Retrieved April 21, 2017.\", \"url\": \"https://pentestlab.blog/2017/04/03/token-manipulation/\"}], \"object_marking_refs\": [\"marking-definition--fa42a846-8d90-4e51-bc29-71d5b4802168\"], \"x_mitre_attack_spec_version\": \"2.1.0\", \"x_mitre_contributors\": [\"Tom Ueltschi @c_APT_ure\", \"Travis Smith, Tripwire\", \"Robby Winchester, @robwinchester3\", \"Jared Atkinson, @jaredcatkinson\"], \"x_mitre_data_sources\": [\"Process: OS API Execution\", \"Active Directory: Active Directory Object Modification\", \"User Account: User Account Metadata\", \"Process: Process Metadata\", \"Process: Process Creation\", \"Command: Command Execution\"], \"x_mitre_defense_bypassed\": [\"Windows User Account Control\", \"Heuristic Detection\", \"System Access Controls\", \"Host Forensic Analysis\"], \"x_mitre_deprecated\": false, \"x_mitre_detection\": \"If an adversary is using a standard command-line shell, analysts can detect token manipulation by auditing command-line activity. Specifically, analysts should look for use of the <code>runas</code> command. Detailed command-line logging is not enabled by default in Windows.(Citation: Microsoft Command-line Logging)\\n\\nIf an adversary is using a payload that calls the Windows token APIs directly, analysts can detect token manipulation only through careful analysis of user network activity, examination of running processes, and correlation with other endpoint and network behavior. \\n\\nThere are many Windows API calls a payload can take advantage of to manipulate access tokens (e.g., <code>LogonUser</code> (Citation: Microsoft LogonUser), <code>DuplicateTokenEx</code>(Citation: Microsoft DuplicateTokenEx), and <code>ImpersonateLoggedOnUser</code>(Citation: Microsoft ImpersonateLoggedOnUser)). Please see the referenced Windows API pages for more information.\\n\\nQuery systems for process and thread token information and look for inconsistencies such as user owns processes impersonating the local SYSTEM account.(Citation: BlackHat Atkinson Winchester Token Manipulation)\\n\\nLook for inconsistencies between the various fields that store PPID information, such as the EventHeader ProcessId from data collected via Event Tracing for Windows (ETW), Creator Process ID/Name from Windows event logs, and the ProcessID and ParentProcessID (which are also produced from ETW and other utilities such as Task Manager and Process Explorer). The ETW provided EventHeader ProcessId identifies the actual parent process.\", \"x_mitre_domains\": [\"enterprise-attack\"], \"x_mitre_effective_permissions\": [\"SYSTEM\"], \"x_mitre_is_subtechnique\": false, \"x_mitre_modified_by_ref\": \"identity--c78cb6e5-0c4b-4611-8297-d1b8b55e40b5\", \"x_mitre_permissions_required\": [\"User\", \"Administrator\"], \"x_mitre_platforms\": [\"Windows\"], \"x_mitre_version\": \"2.0\"}\n"
     ]
    }
   ],
   "source": [
    "# 指定要查找的STIX的type为```attack-pattern```\n",
    "t1134 = src.query([\n",
    "    Filter(\"external_references.external_id\", \"=\", \"T1134\"),\n",
    "    Filter(\"type\", \"=\", \"attack-pattern\")\n",
    "])[0]\n",
    "print(t1134)"
   ]
  },
  {
   "cell_type": "code",
   "execution_count": 29,
   "metadata": {},
   "outputs": [
    {
     "data": {
      "text/plain": [
       "[AttackPattern(type='attack-pattern', spec_version='2.1', id='attack-pattern--354a7f88-63fb-41b5-a801-ce3b377b36f1', created_by_ref='identity--c78cb6e5-0c4b-4611-8297-d1b8b55e40b5', created='2017-05-31T21:31:04.307Z', modified='2023-05-09T14:00:00.188Z', name='System Information Discovery', description='An adversary may attempt to get detailed information about the operating system and hardware, including version, patches, hotfixes, service packs, and architecture. Adversaries may use the information from [System Information Discovery](https://attack.mitre.org/techniques/T1082) during automated discovery to shape follow-on behaviors, including whether or not the adversary fully infects the target and/or attempts specific actions.\\n\\nTools such as [Systeminfo](https://attack.mitre.org/software/S0096) can be used to gather detailed system information. If running with privileged access, a breakdown of system data can be gathered through the <code>systemsetup</code> configuration tool on macOS. As an example, adversaries with user-level access can execute the <code>df -aH</code> command to obtain currently mounted disks and associated freely available space. Adversaries may also leverage a [Network Device CLI](https://attack.mitre.org/techniques/T1059/008) on network devices to gather detailed system information (e.g. <code>show version</code>).(Citation: US-CERT-TA18-106A) [System Information Discovery](https://attack.mitre.org/techniques/T1082) combined with information gathered from other forms of discovery and reconnaissance can drive payload development and concealment.(Citation: OSX.FairyTale)(Citation: 20 macOS Common Tools and Techniques)\\n\\nInfrastructure as a Service (IaaS) cloud providers such as AWS, GCP, and Azure allow access to instance and virtual machine information via APIs. Successful authenticated API calls can return data such as the operating system platform and status of a particular instance or the model view of a virtual machine.(Citation: Amazon Describe Instance)(Citation: Google Instances Resource)(Citation: Microsoft Virutal Machine API)', kill_chain_phases=[KillChainPhase(kill_chain_name='mitre-attack', phase_name='discovery')], revoked=False, external_references=[ExternalReference(source_name='mitre-attack', url='https://attack.mitre.org/techniques/T1082', external_id='T1082'), ExternalReference(source_name='Amazon Describe Instance', description='Amazon. (n.d.). describe-instance-information. Retrieved March 3, 2020.', url='https://docs.aws.amazon.com/cli/latest/reference/ssm/describe-instance-information.html'), ExternalReference(source_name='Google Instances Resource', description='Google. (n.d.). Rest Resource: instance. Retrieved March 3, 2020.', url='https://cloud.google.com/compute/docs/reference/rest/v1/instances'), ExternalReference(source_name='Microsoft Virutal Machine API', description='Microsoft. (2019, March 1). Virtual Machines - Get. Retrieved October 8, 2019.', url='https://docs.microsoft.com/en-us/rest/api/compute/virtualmachines/get'), ExternalReference(source_name='20 macOS Common Tools and Techniques', description='Phil Stokes. (2021, February 16). 20 Common Tools & Techniques Used by macOS Threat Actors & Malware. Retrieved August 23, 2021.', url='https://labs.sentinelone.com/20-common-tools-techniques-used-by-macos-threat-actors-malware/'), ExternalReference(source_name='OSX.FairyTale', description='Phile Stokes. (2018, September 20). On the Trail of OSX.FairyTale | Adware Playing at Malware. Retrieved August 24, 2021.', url='https://www.sentinelone.com/blog/trail-osx-fairytale-adware-playing-malware/'), ExternalReference(source_name='US-CERT-TA18-106A', description='US-CERT. (2018, April 20). Alert (TA18-106A) Russian State-Sponsored Cyber Actors Targeting Network Infrastructure Devices. Retrieved October 19, 2020.', url='https://www.us-cert.gov/ncas/alerts/TA18-106A')], object_marking_refs=['marking-definition--fa42a846-8d90-4e51-bc29-71d5b4802168'], x_mitre_attack_spec_version='2.1.0', x_mitre_contributors=['Maril Vernon @shewhohacks', 'Praetorian', 'Austin Clark, @c2defense'], x_mitre_data_sources=['Process: Process Creation', 'Process: OS API Execution', 'Command: Command Execution'], x_mitre_deprecated=False, x_mitre_detection='System and network discovery techniques normally occur throughout an operation as an adversary learns the environment. Data and events should not be viewed in isolation, but as part of a chain of behavior that could lead to other activities based on the information obtained.\\n\\nMonitor processes and command-line arguments for actions that could be taken to gather system and network information. Remote access tools with built-in features may interact directly with the Windows API to gather information. Further, [Network Device CLI](https://attack.mitre.org/techniques/T1059/008) commands may also be used to gather  detailed system information with built-in features native to the network device platform.  Monitor CLI activity for unexpected or unauthorized use  commands being run by non-standard users from non-standard locations. Information may also be acquired through Windows system management tools such as [Windows Management Instrumentation](https://attack.mitre.org/techniques/T1047) and [PowerShell](https://attack.mitre.org/techniques/T1059/001).\\n\\nIn cloud-based systems, native logging can be used to identify access to certain APIs and dashboards that may contain system information. Depending on how the environment is used, that data alone may not be useful due to benign use during normal operations.', x_mitre_domains=['enterprise-attack'], x_mitre_is_subtechnique=False, x_mitre_modified_by_ref='identity--c78cb6e5-0c4b-4611-8297-d1b8b55e40b5', x_mitre_platforms=['Windows', 'IaaS', 'Linux', 'macOS', 'Network'], x_mitre_version='2.5')]"
      ]
     },
     "execution_count": 29,
     "metadata": {},
     "output_type": "execute_result"
    }
   ],
   "source": [
    "# 通过 name 查询\n",
    "\n",
    "def get_technique_by_name(thesrc, name):\n",
    "    filt = [\n",
    "        Filter('type', '=', 'attack-pattern'),\n",
    "        Filter('name', '=', name)\n",
    "    ]\n",
    "    return thesrc.query(filt)\n",
    "# get the technique titled \"System Information Discovery\"\n",
    "get_technique_by_name(src, 'System Information Discovery')"
   ]
  },
  {
   "cell_type": "code",
   "execution_count": 30,
   "metadata": {},
   "outputs": [
    {
     "data": {
      "text/plain": [
       "IntrusionSet(type='intrusion-set', spec_version='2.1', id='intrusion-set--899ce53f-13a0-479b-a0e4-67d46e241542', created_by_ref='identity--c78cb6e5-0c4b-4611-8297-d1b8b55e40b5', created='2017-05-31T21:31:52.748Z', modified='2023-04-16T22:25:01.191Z', name='APT29', description=\"[APT29](https://attack.mitre.org/groups/G0016) is threat group that has been attributed to Russia's Foreign Intelligence Service (SVR).(Citation: White House Imposing Costs RU Gov April 2021)(Citation: UK Gov Malign RIS Activity April 2021) They have operated since at least 2008, often targeting government networks in Europe and NATO member countries, research institutes, and think tanks. [APT29](https://attack.mitre.org/groups/G0016) reportedly compromised the Democratic National Committee starting in the summer of 2015.(Citation: F-Secure The Dukes)(Citation: GRIZZLY STEPPE JAR)(Citation: Crowdstrike DNC June 2016)(Citation: UK Gov UK Exposes Russia SolarWinds April 2021)\\n\\nIn April 2021, the US and UK governments attributed the [SolarWinds Compromise](https://attack.mitre.org/campaigns/C0024) to the SVR; public statements included citations to [APT29](https://attack.mitre.org/groups/G0016), Cozy Bear, and The Dukes.(Citation: NSA Joint Advisory SVR SolarWinds April 2021)(Citation: UK NSCS Russia SolarWinds April 2021) Industry reporting also referred to the actors involved in this campaign as UNC2452, NOBELIUM, StellarParticle, Dark Halo, and SolarStorm.(Citation: FireEye SUNBURST Backdoor December 2020)(Citation: MSTIC NOBELIUM Mar 2021)(Citation: CrowdStrike SUNSPOT Implant January 2021)(Citation: Volexity SolarWinds)(Citation: Cybersecurity Advisory SVR TTP May 2021)(Citation: Unit 42 SolarStorm December 2020)\", aliases=['APT29', 'IRON RITUAL', 'IRON HEMLOCK', 'NobleBaron', 'Dark Halo', 'StellarParticle', 'NOBELIUM', 'UNC2452', 'YTTRIUM', 'The Dukes', 'Cozy Bear', 'CozyDuke', 'SolarStorm', 'Blue Kitsune'], revoked=False, external_references=[ExternalReference(source_name='mitre-attack', url='https://attack.mitre.org/groups/G0016', external_id='G0016'), ExternalReference(source_name='CozyDuke', description='(Citation: Crowdstrike DNC June 2016)'), ExternalReference(source_name='Cozy Bear', description='(Citation: Crowdstrike DNC June 2016)(Citation: ESET Dukes October 2019)(Citation: NCSC APT29 July 2020)(Citation: Cybersecurity Advisory SVR TTP May 2021)(Citation: CrowdStrike StellarParticle January 2022)'), ExternalReference(source_name='StellarParticle', description='(Citation: CrowdStrike SUNSPOT Implant January 2021)(Citation: CrowdStrike StellarParticle January 2022)'), ExternalReference(source_name='The Dukes', description='(Citation: F-Secure The Dukes)(Citation: ESET Dukes October 2019)(Citation: NCSC APT29 July 2020)(Citation: Cybersecurity Advisory SVR TTP May 2021)'), ExternalReference(source_name='APT29', description='(Citation: F-Secure The Dukes)(Citation: FireEye APT29 Nov 2018)(Citation: ESET Dukes October 2019)(Citation: NCSC APT29 July 2020)(Citation: Cybersecurity Advisory SVR TTP May 2021)'), ExternalReference(source_name='UNC2452', description='(Citation: FireEye SUNBURST Backdoor December 2020)'), ExternalReference(source_name='YTTRIUM', description='(Citation: Microsoft Unidentified Dec 2018)'), ExternalReference(source_name='NOBELIUM', description='(Citation: MSTIC NOBELIUM Mar 2021)(Citation: MSTIC NOBELIUM May 2021)(Citation: MSTIC Nobelium Toolset May 2021)(Citation: MSRC Nobelium June 2021)'), ExternalReference(source_name='Blue Kitsune', description='(Citation: PWC WellMess July 2020)(Citation: PWC WellMess C2 August 2020)'), ExternalReference(source_name='IRON HEMLOCK', description='(Citation: Secureworks IRON HEMLOCK Profile)'), ExternalReference(source_name='IRON RITUAL', description='(Citation: Secureworks IRON RITUAL Profile)'), ExternalReference(source_name='NobleBaron', description='(Citation: SentinelOne NobleBaron June 2021)'), ExternalReference(source_name='SolarStorm', description='(Citation: Unit 42 SolarStorm December 2020)'), ExternalReference(source_name='Dark Halo', description='(Citation: Volexity SolarWinds)'), ExternalReference(source_name='Crowdstrike DNC June 2016', description='Alperovitch, D.. (2016, June 15). Bears in the Midst: Intrusion into the Democratic National Committee. Retrieved August 3, 2016.', url='https://www.crowdstrike.com/blog/bears-midst-intrusion-democratic-national-committee/'), ExternalReference(source_name='Volexity SolarWinds', description='Cash, D. et al. (2020, December 14). Dark Halo Leverages SolarWinds Compromise to Breach Organizations. Retrieved December 29, 2020.', url='https://www.volexity.com/blog/2020/12/14/dark-halo-leverages-solarwinds-compromise-to-breach-organizations/'), ExternalReference(source_name='CrowdStrike SUNSPOT Implant January 2021', description='CrowdStrike Intelligence Team. (2021, January 11). SUNSPOT: An Implant in the Build Process. Retrieved January 11, 2021.', url='https://www.crowdstrike.com/blog/sunspot-malware-technical-analysis/'), ExternalReference(source_name='CrowdStrike StellarParticle January 2022', description='CrowdStrike. (2022, January 27). Early Bird Catches the Wormhole: Observations from the StellarParticle Campaign. Retrieved February 7, 2022.', url='https://www.crowdstrike.com/blog/observations-from-the-stellarparticle-campaign/'), ExternalReference(source_name='GRIZZLY STEPPE JAR', description='Department of Homeland Security and Federal Bureau of Investigation. (2016, December 29). GRIZZLY STEPPE – Russian Malicious Cyber Activity. Retrieved January 11, 2017.', url='https://www.us-cert.gov/sites/default/files/publications/JAR_16-20296A_GRIZZLY%20STEPPE-2016-1229.pdf'), ExternalReference(source_name='FireEye APT29 Nov 2018', description='Dunwoody, M., et al. (2018, November 19). Not So Cozy: An Uncomfortable Examination of a Suspected APT29 Phishing Campaign. Retrieved November 27, 2018.', url='https://www.fireeye.com/blog/threat-research/2018/11/not-so-cozy-an-uncomfortable-examination-of-a-suspected-apt29-phishing-campaign.html'), ExternalReference(source_name='F-Secure The Dukes', description='F-Secure Labs. (2015, September 17). The Dukes: 7 years of Russian cyberespionage. Retrieved December 10, 2015.', url='https://www.f-secure.com/documents/996508/1030745/dukes_whitepaper.pdf'), ExternalReference(source_name='ESET Dukes October 2019', description='Faou, M., Tartare, M., Dupuy, T. (2019, October). OPERATION GHOST. Retrieved September 23, 2020.', url='https://www.welivesecurity.com/wp-content/uploads/2019/10/ESET_Operation_Ghost_Dukes.pdf'), ExternalReference(source_name='FireEye SUNBURST Backdoor December 2020', description='FireEye. (2020, December 13). Highly Evasive Attacker Leverages SolarWinds Supply Chain to Compromise Multiple Global Victims With SUNBURST Backdoor. Retrieved January 4, 2021.', url='https://www.fireeye.com/blog/threat-research/2020/12/evasive-attacker-leverages-solarwinds-supply-chain-compromises-with-sunburst-backdoor.html'), ExternalReference(source_name='SentinelOne NobleBaron June 2021', description='Guerrero-Saade, J. (2021, June 1). NobleBaron | New Poisoned Installers Could Be Used In Supply Chain Attacks. Retrieved August 4, 2021.', url='https://labs.sentinelone.com/noblebaron-new-poisoned-installers-could-be-used-in-supply-chain-attacks/'), ExternalReference(source_name='Microsoft Unidentified Dec 2018', description='Microsoft Defender Research Team. (2018, December 3). Analysis of cyberattack on U.S. think tanks, non-profits, public sector by unidentified attackers. Retrieved April 15, 2019.', url='https://www.microsoft.com/security/blog/2018/12/03/analysis-of-cyberattack-on-u-s-think-tanks-non-profits-public-sector-by-unidentified-attackers/'), ExternalReference(source_name='MSTIC NOBELIUM May 2021', description='Microsoft Threat Intelligence Center (MSTIC). (2021, May 27). New sophisticated email-based attack from NOBELIUM. Retrieved May 28, 2021.', url='https://www.microsoft.com/security/blog/2021/05/27/new-sophisticated-email-based-attack-from-nobelium/'), ExternalReference(source_name='MSRC Nobelium June 2021', description='MSRC. (2021, June 25). New Nobelium activity. Retrieved August 4, 2021.', url='https://msrc-blog.microsoft.com/2021/06/25/new-nobelium-activity/'), ExternalReference(source_name='MSTIC Nobelium Toolset May 2021', description='MSTIC. (2021, May 28). Breaking down NOBELIUM’s latest early-stage toolset. Retrieved August 4, 2021.', url='https://www.microsoft.com/security/blog/2021/05/28/breaking-down-nobeliums-latest-early-stage-toolset/'), ExternalReference(source_name='MSTIC NOBELIUM Mar 2021', description='Nafisi, R., Lelli, A. (2021, March 4). GoldMax, GoldFinder, and Sibot: Analyzing NOBELIUM’s layered persistence. Retrieved March 8, 2021.', url='https://www.microsoft.com/security/blog/2021/03/04/goldmax-goldfinder-sibot-analyzing-nobelium-malware/'), ExternalReference(source_name='NCSC APT29 July 2020', description='National Cyber Security Centre. (2020, July 16). Advisory: APT29 targets COVID-19 vaccine development. Retrieved September 29, 2020.', url='https://www.ncsc.gov.uk/files/Advisory-APT29-targets-COVID-19-vaccine-development-V1-1.pdf'), ExternalReference(source_name='Cybersecurity Advisory SVR TTP May 2021', description='NCSC, CISA, FBI, NSA. (2021, May 7). Further TTPs associated with SVR cyber actors. Retrieved July 29, 2021.', url='https://www.ncsc.gov.uk/files/Advisory-further-TTPs-associated-with-SVR-cyber-actors.pdf'), ExternalReference(source_name='NSA Joint Advisory SVR SolarWinds April 2021', description='NSA, FBI, DHS. (2021, April 15). Russian SVR Targets U.S. and Allied Networks. Retrieved April 16, 2021.', url='https://media.defense.gov/2021/Apr/15/2002621240/-1/-1/0/CSA_SVR_TARGETS_US_ALLIES_UOO13234021.PDF/CSA_SVR_TARGETS_US_ALLIES_UOO13234021.PDF'), ExternalReference(source_name='PWC WellMess C2 August 2020', description='PWC. (2020, August 17). WellMess malware: analysis of its Command and Control (C2) server. Retrieved September 29, 2020.', url='https://www.pwc.co.uk/issues/cyber-security-services/insights/wellmess-analysis-command-control.html'), ExternalReference(source_name='PWC WellMess July 2020', description='PWC. (2020, July 16). How WellMess malware has been used to target COVID-19 vaccines. Retrieved September 24, 2020.', url='https://www.pwc.co.uk/issues/cyber-security-services/insights/cleaning-up-after-wellmess.html'), ExternalReference(source_name='Secureworks IRON HEMLOCK Profile', description='Secureworks CTU. (n.d.). IRON HEMLOCK. Retrieved February 22, 2022.', url='http://www.secureworks.com/research/threat-profiles/iron-hemlock'), ExternalReference(source_name='Secureworks IRON RITUAL Profile', description='Secureworks CTU. (n.d.). IRON RITUAL. Retrieved February 24, 2022.', url='https://www.secureworks.com/research/threat-profiles/iron-ritual'), ExternalReference(source_name='UK Gov Malign RIS Activity April 2021', description='UK Gov. (2021, April 15). UK and US expose global campaign of malign activity by Russian intelligence services . Retrieved April 16, 2021.', url='https://www.gov.uk/government/news/russia-uk-and-us-expose-global-campaigns-of-malign-activity-by-russian-intelligence-services'), ExternalReference(source_name='UK Gov UK Exposes Russia SolarWinds April 2021', description='UK Gov. (2021, April 15). UK exposes Russian involvement in SolarWinds cyber compromise . Retrieved April 16, 2021.', url='https://www.gov.uk/government/news/russia-uk-exposes-russian-involvement-in-solarwinds-cyber-compromise'), ExternalReference(source_name='UK NSCS Russia SolarWinds April 2021', description='UK NCSC. (2021, April 15). UK and US call out Russia for SolarWinds compromise. Retrieved April 16, 2021.', url='https://www.ncsc.gov.uk/news/uk-and-us-call-out-russia-for-solarwinds-compromise'), ExternalReference(source_name='Unit 42 SolarStorm December 2020', description='Unit 42. (2020, December 23). SolarStorm Supply Chain Attack Timeline. Retrieved March 24, 2023.', url='https://unit42.paloaltonetworks.com/solarstorm-supply-chain-attack-timeline/'), ExternalReference(source_name='White House Imposing Costs RU Gov April 2021', description='White House. (2021, April 15). Imposing Costs for Harmful Foreign Activities by the Russian Government. Retrieved April 16, 2021.', url='https://www.whitehouse.gov/briefing-room/statements-releases/2021/04/15/fact-sheet-imposing-costs-for-harmful-foreign-activities-by-the-russian-government/')], object_marking_refs=['marking-definition--fa42a846-8d90-4e51-bc29-71d5b4802168'], x_mitre_attack_spec_version='3.1.0', x_mitre_contributors=['Daniyal Naeem, BT Security', 'Matt Brenton, Zurich Insurance Group', 'Katie Nickels, Red Canary', 'Joe Gumke, U.S. Bank'], x_mitre_deprecated=False, x_mitre_domains=['enterprise-attack'], x_mitre_modified_by_ref='identity--c78cb6e5-0c4b-4611-8297-d1b8b55e40b5', x_mitre_version='4.0')"
      ]
     },
     "execution_count": 30,
     "metadata": {},
     "output_type": "execute_result"
    }
   ],
   "source": [
    "# 通过 alias（别名）查询\n",
    "from stix2 import Filter\n",
    "\n",
    "def get_group_by_alias(thesrc, alias):\n",
    "    return thesrc.query([\n",
    "        Filter('type', '=', 'intrusion-set'),\n",
    "        Filter('aliases', '=', alias)\n",
    "    ])[0]\n",
    "\n",
    "get_group_by_alias(src, 'Cozy Bear')"
   ]
  },
  {
   "cell_type": "markdown",
   "metadata": {},
   "source": [
    "#### 获取多个对象"
   ]
  },
  {
   "cell_type": "code",
   "execution_count": 31,
   "metadata": {},
   "outputs": [],
   "source": [
    "# 按类型获取对象\n",
    "from stix2 import Filter\n",
    "\n",
    "# use the appropriate STIX type in the query according to the desired ATT&CK type\n",
    "groups = src.query([ Filter(\"type\", \"=\", \"intrusion-set\") ])"
   ]
  },
  {
   "cell_type": "code",
   "execution_count": 3,
   "metadata": {},
   "outputs": [],
   "source": [
    "# 获取 techniques 或 sub-techniques\n",
    "from stix2 import Filter\n",
    "\n",
    "def get_techniques_or_subtechniques(thesrc, include=\"both\"):\n",
    "    \"\"\"Filter Techniques or Sub-Techniques from ATT&CK Enterprise Domain.\n",
    "    include argument has three options: \"techniques\", \"subtechniques\", or \"both\"\n",
    "    depending on the intended behavior.\"\"\"\n",
    "    if include == \"techniques\":\n",
    "        query_results = thesrc.query([\n",
    "            Filter('type', '=', 'attack-pattern'),\n",
    "            Filter('x_mitre_is_subtechnique', '=', False)\n",
    "        ])\n",
    "    elif include == \"subtechniques\":\n",
    "        query_results = thesrc.query([\n",
    "            Filter('type', '=', 'attack-pattern'),\n",
    "            Filter('x_mitre_is_subtechnique', '=', True)\n",
    "        ])\n",
    "    elif include == \"both\":\n",
    "        query_results = thesrc.query([\n",
    "            Filter('type', '=', 'attack-pattern')\n",
    "        ])\n",
    "    else:\n",
    "        raise RuntimeError(\"Unknown option %s!\" % include)\n",
    "\n",
    "    return query_results\n",
    "\n",
    "\n",
    "subtechniques = get_techniques_or_subtechniques(src, \"subtechniques\")\n"
   ]
  }
 ],
 "metadata": {
  "kernelspec": {
   "display_name": "Python 3 (ipykernel)",
   "language": "python",
   "name": "python3"
  },
  "language_info": {
   "codemirror_mode": {
    "name": "ipython",
    "version": 3
   },
   "file_extension": ".py",
   "mimetype": "text/x-python",
   "name": "python",
   "nbconvert_exporter": "python",
   "pygments_lexer": "ipython3",
   "version": "3.9.13"
  }
 },
 "nbformat": 4,
 "nbformat_minor": 4
}
