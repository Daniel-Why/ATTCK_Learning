{
 "cells": [
  {
   "attachments": {},
   "cell_type": "markdown",
   "metadata": {},
   "source": [
    "> 文章 ID：A007\n",
    ">\n",
    "> 创建时间：2023-06-27\n",
    ">\n",
    "> 更新时间：2023-06-26"
   ]
  },
  {
   "attachments": {},
   "cell_type": "markdown",
   "metadata": {},
   "source": [
    "> 本文档测试版本基于STIX2.1\n",
    "> \n",
    "> MITRE ATTACK 矩阵的仓库地址和使用方法见如下链接：\n",
    "> \n",
    "> 仓库地址：https://github.com/mitre-attack/attack-stix-data\n",
    "> \n",
    "> 使用方法：https://github.com/mitre-attack/attack-stix-data/blob/master/USAGE.md\n",
    ">\n",
    "> 本项目已从仓库中拉下来了原始数据，见路径：../assets/attck_database/attack-stix-data"
   ]
  },
  {
   "attachments": {},
   "cell_type": "markdown",
   "metadata": {},
   "source": [
    "> 本文档采用python的 `stix2` 和 `mitreattack-python` 库去处理Mitre Attack的STIX格式数据"
   ]
  },
  {
   "cell_type": "code",
   "execution_count": 8,
   "metadata": {},
   "outputs": [],
   "source": [
    "import mitreattack\n",
    "from stix2 import MemoryStore\n"
   ]
  },
  {
   "cell_type": "code",
   "execution_count": null,
   "metadata": {},
   "outputs": [],
   "source": [
    "# 将attack-stix-data数据载入缓存\n",
    "src = MemoryStore()\n",
    "src.load_from_file(\"../assets/attck_database/attack-stix-data/enterprise-attack/enterprise-attack.json\")"
   ]
  },
  {
   "cell_type": "code",
   "execution_count": 5,
   "metadata": {},
   "outputs": [
    {
     "name": "stdout",
     "output_type": "stream",
     "text": [
      "../assets/attck_database/attack-stix-data\\enterprise-attack\\enterprise-attack-6.2.json\n"
     ]
    }
   ],
   "source": [
    "import os\n",
    "# 载入特定版本的数据\n",
    "def get_attack_version(root,domain, version):\n",
    "    \"\"\"get ATT&CK STIX data for a given domain and version. Domain should be 'enterprise-attack', 'mobile-attack' or 'ics-attack'. Branch should typically be master.\"\"\"\n",
    "    ms = MemoryStore()\n",
    "    print(os.path.join(root,domain, f\"{domain}-{version}.json\"))\n",
    "    ms.load_from_file(os.path.join(root,domain, f\"{domain}-{version}.json\"))\n",
    "    return ms\n",
    "\n",
    "src = get_attack_version(\"../assets/attck_database/attack-stix-data\",\"enterprise-attack\", \"6.2\")"
   ]
  },
  {
   "cell_type": "code",
   "execution_count": 9,
   "metadata": {},
   "outputs": [
    {
     "name": "stdout",
     "output_type": "stream",
     "text": [
      "{\"type\": \"intrusion-set\", \"spec_version\": \"2.1\", \"id\": \"intrusion-set--f40eb8ce-2a74-4e56-89a1-227021410142\", \"created_by_ref\": \"identity--c78cb6e5-0c4b-4611-8297-d1b8b55e40b5\", \"created\": \"2018-10-17T00:14:20.652Z\", \"modified\": \"2022-04-25T14:00:00.188Z\", \"name\": \"Rancor\", \"description\": \"[Rancor](https://attack.mitre.org/groups/G0075) is a threat group that has led targeted campaigns against the South East Asia region. [Rancor](https://attack.mitre.org/groups/G0075) uses politically-motivated lures to entice victims to open malicious documents. (Citation: Rancor Unit42 June 2018)\", \"aliases\": [\"Rancor\"], \"external_references\": [{\"source_name\": \"mitre-attack\", \"url\": \"https://attack.mitre.org/groups/G0075\", \"external_id\": \"G0075\"}, {\"source_name\": \"Rancor\", \"description\": \"(Citation: Rancor Unit42 June 2018)\"}, {\"source_name\": \"Rancor Unit42 June 2018\", \"description\": \"Ash, B., et al. (2018, June 26). RANCOR: Targeted Attacks in South East Asia Using PLAINTEE and DDKONG Malware Families. Retrieved July 2, 2018.\", \"url\": \"https://researchcenter.paloaltonetworks.com/2018/06/unit42-rancor-targeted-attacks-south-east-asia-using-plaintee-ddkong-malware-families/\"}], \"object_marking_refs\": [\"marking-definition--fa42a846-8d90-4e51-bc29-71d5b4802168\"], \"x_mitre_attack_spec_version\": \"2.1.0\", \"x_mitre_domains\": [\"enterprise-attack\"], \"x_mitre_modified_by_ref\": \"identity--c78cb6e5-0c4b-4611-8297-d1b8b55e40b5\", \"x_mitre_version\": \"1.2\"}\n"
     ]
    }
   ],
   "source": [
    "\n",
    "g0075 = src.get(\"intrusion-set--f40eb8ce-2a74-4e56-89a1-227021410142\")\n",
    "print(g0075)"
   ]
  }
 ],
 "metadata": {
  "kernelspec": {
   "display_name": "Python 3",
   "language": "python",
   "name": "python3"
  },
  "language_info": {
   "codemirror_mode": {
    "name": "ipython",
    "version": 3
   },
   "file_extension": ".py",
   "mimetype": "text/x-python",
   "name": "python",
   "nbconvert_exporter": "python",
   "pygments_lexer": "ipython3",
   "version": "3.10.2"
  },
  "orig_nbformat": 4
 },
 "nbformat": 4,
 "nbformat_minor": 2
}
