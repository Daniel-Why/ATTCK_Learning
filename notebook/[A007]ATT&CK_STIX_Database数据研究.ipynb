{
 "cells": [
  {
   "attachments": {},
   "cell_type": "markdown",
   "metadata": {},
   "source": [
    "> 文章 ID：A007\n",
    ">\n",
    "> 创建时间：2023-06-27\n",
    ">\n",
    "> 更新时间：2023-06-26"
   ]
  },
  {
   "attachments": {},
   "cell_type": "markdown",
   "metadata": {},
   "source": [
    "> 本文档测试版本基于STIX2.1\n",
    "> \n",
    "> MITRE ATTACK 矩阵的仓库地址和使用方法见如下链接：\n",
    "> \n",
    "> 仓库地址：https://github.com/mitre-attack/attack-stix-data\n",
    "> \n",
    "> 使用方法：https://github.com/mitre-attack/attack-stix-data/blob/master/USAGE.md\n",
    ">\n",
    "> 本项目已从仓库中拉下来了原始数据，见路径：../assets/attck_database/attack-stix-data"
   ]
  },
  {
   "attachments": {},
   "cell_type": "markdown",
   "metadata": {},
   "source": [
    "> 本文档采用python的 `stix2` 和 `mitreattack-python` 库去处理Mitre Attack的STIX格式数据"
   ]
  },
  {
   "cell_type": "code",
   "execution_count": 1,
   "metadata": {},
   "outputs": [],
   "source": [
    "import mitreattack\n",
    "from stix2 import MemoryStore\n",
    "\n",
    "# 将attack-stix-data 载入缓存\n",
    "src = MemoryStore()\n",
    "src.load_from_file(\"../assets/attck_database/attack-stix-data/enterprise-attack/enterprise-attack.json\")"
   ]
  },
  {
   "cell_type": "code",
   "execution_count": 5,
   "metadata": {},
   "outputs": [
    {
     "name": "stdout",
     "output_type": "stream",
     "text": [
      "../assets/attck_database/attack-stix-data\\enterprise-attack\\enterprise-attack-6.2.json\n"
     ]
    }
   ],
   "source": [
    "import os\n",
    "def get_attack_version(root,domain, version):\n",
    "    \"\"\"get ATT&CK STIX data for a given domain and version. Domain should be 'enterprise-attack', 'mobile-attack' or 'ics-attack'. Branch should typically be master.\"\"\"\n",
    "    ms = MemoryStore()\n",
    "    print(os.path.join(root,domain, f\"{domain}-{version}.json\"))\n",
    "    ms.load_from_file(os.path.join(root,domain, f\"{domain}-{version}.json\"))\n",
    "    return ms\n",
    "\n",
    "src = get_attack_version(\"../assets/attck_database/attack-stix-data\",\"enterprise-attack\", \"6.2\")"
   ]
  },
  {
   "cell_type": "code",
   "execution_count": 6,
   "metadata": {},
   "outputs": [],
   "source": [
    "g0075 = src.get(\"intrusion-set--f40eb8ce-2a74-4e56-89a1-227021410142\")\n",
    "print(g0075)"
   ]
  }
 ],
 "metadata": {
  "kernelspec": {
   "display_name": "Python 3",
   "language": "python",
   "name": "python3"
  },
  "language_info": {
   "codemirror_mode": {
    "name": "ipython",
    "version": 3
   },
   "file_extension": ".py",
   "mimetype": "text/x-python",
   "name": "python",
   "nbconvert_exporter": "python",
   "pygments_lexer": "ipython3",
   "version": "3.10.2"
  },
  "orig_nbformat": 4
 },
 "nbformat": 4,
 "nbformat_minor": 2
}
